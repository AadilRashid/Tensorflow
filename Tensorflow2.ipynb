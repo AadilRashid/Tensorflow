{
  "nbformat": 4,
  "nbformat_minor": 0,
  "metadata": {
    "colab": {
      "name": "Tensorflow2.ipynb",
      "provenance": [],
      "collapsed_sections": [],
      "mount_file_id": "1Z3wZAjtiR7qiJnPTx_4r_1CaytbNLaVZ",
      "authorship_tag": "ABX9TyPvnb2+QkkZDWgWNOR1zOLG",
      "include_colab_link": true
    },
    "kernelspec": {
      "name": "python3",
      "display_name": "Python 3"
    },
    "language_info": {
      "name": "python"
    }
  },
  "cells": [
    {
      "cell_type": "markdown",
      "metadata": {
        "id": "view-in-github",
        "colab_type": "text"
      },
      "source": [
        "<a href=\"https://colab.research.google.com/github/AadilRashid/LibraryManagement/blob/master/Tensorflow2.ipynb\" target=\"_parent\"><img src=\"https://colab.research.google.com/assets/colab-badge.svg\" alt=\"Open In Colab\"/></a>"
      ]
    },
    {
      "cell_type": "code",
      "metadata": {
        "colab": {
          "base_uri": "https://localhost:8080/"
        },
        "id": "i_iyfWBvCZVf",
        "outputId": "b917fccb-469c-4ad5-9d2e-cb6ddaef3792"
      },
      "source": [
        "%cd /content/drive/MyDrive/DeepLearning/course2"
      ],
      "execution_count": null,
      "outputs": [
        {
          "output_type": "stream",
          "text": [
            "/content/drive/MyDrive/DeepLearning/course2\n"
          ],
          "name": "stdout"
        }
      ]
    },
    {
      "cell_type": "markdown",
      "metadata": {
        "id": "HUS3cTFsCEex"
      },
      "source": [
        "## Imports"
      ]
    },
    {
      "cell_type": "code",
      "metadata": {
        "id": "2OyUOIiXB9-b"
      },
      "source": [
        "import tensorflow as tf\n",
        "import pandas as pd\n",
        "import numpy as np\n",
        "import matplotlib.pyplot as plt\n"
      ],
      "execution_count": null,
      "outputs": []
    },
    {
      "cell_type": "code",
      "metadata": {
        "id": "mmbQdN1GCTyc"
      },
      "source": [
        ""
      ],
      "execution_count": null,
      "outputs": []
    },
    {
      "cell_type": "markdown",
      "metadata": {
        "id": "8LWQnViHCnk3"
      },
      "source": [
        "## loading Datasets"
      ]
    },
    {
      "cell_type": "code",
      "metadata": {
        "id": "ksDA2w8xCr9L"
      },
      "source": [
        "# #from keras\n",
        "# from tensorflow.keras.datasets import  imdb\n",
        "# (x_train,y_train),(x_test,y_test) = imdb.load_data()"
      ],
      "execution_count": null,
      "outputs": []
    },
    {
      "cell_type": "code",
      "metadata": {
        "id": "er0L6eerGp7m"
      },
      "source": [
        "# print(x_train.shape,x_test.shape)\n",
        "# y_train[0]"
      ],
      "execution_count": null,
      "outputs": []
    },
    {
      "cell_type": "code",
      "metadata": {
        "id": "Bpx9UEvRGHlP"
      },
      "source": [
        "#from sklearn\n",
        "from sklearn.datasets import load_breast_cancer\n",
        "from sklearn.model_selection import train_test_split\n",
        "\n",
        "cancer = load_breast_cancer()\n",
        "x_train,x_test,y_train,y_test = train_test_split(cancer.data[:,:3],cancer.target,random_state= 0 )"
      ],
      "execution_count": null,
      "outputs": []
    },
    {
      "cell_type": "markdown",
      "metadata": {
        "id": "8O89XNhYIMPx"
      },
      "source": [
        ""
      ]
    },
    {
      "cell_type": "code",
      "metadata": {
        "id": "Pynl4os9GQ92"
      },
      "source": [
        "#print(x_train[:,0].shape,y_train.shape)\n",
        "rad,tex,per = x_train.transpose()"
      ],
      "execution_count": null,
      "outputs": []
    },
    {
      "cell_type": "code",
      "metadata": {
        "id": "VwOATM1F3eVM"
      },
      "source": [
        ""
      ],
      "execution_count": null,
      "outputs": []
    },
    {
      "cell_type": "code",
      "metadata": {
        "colab": {
          "base_uri": "https://localhost:8080/"
        },
        "id": "Ju_2H4wSIXSq",
        "outputId": "f198371e-3998-4de5-b2fc-de5f67b053c8"
      },
      "source": [
        "#rad.shape\n",
        "y_train.shape"
      ],
      "execution_count": null,
      "outputs": [
        {
          "output_type": "execute_result",
          "data": {
            "text/plain": [
              "(426,)"
            ]
          },
          "metadata": {
            "tags": []
          },
          "execution_count": 7
        }
      ]
    },
    {
      "cell_type": "markdown",
      "metadata": {
        "id": "4RhbhjvQIGgQ"
      },
      "source": [
        "## Defining a Model"
      ]
    },
    {
      "cell_type": "code",
      "metadata": {
        "id": "SoHeDMQzILAK"
      },
      "source": [
        "from tensorflow.keras.models import Model\n",
        "from tensorflow.keras.layers import Dense,Flatten,concatenate\n",
        "from tensorflow.keras import Input\n",
        "\n",
        "mean_rad = Input(shape =(1,),name=\"rad\")\n",
        "mean_tex = Input(shape = (1,),name = \"tex\")\n",
        "mean_per = Input(shape =(1,),name = \"par\")\n",
        "input_list = [mean_rad,mean_tex,mean_per]\n",
        "inputs = concatenate(input_list)\n",
        "\n",
        "output1 = Dense(124,activation =\"relu\")(inputs)\n",
        "output1 = Dense(2,activation = \"softmax\")(output1)\n",
        "\n",
        "output2=  Dense(64,activation = \"relu\")(inputs)\n",
        "output2=  Dense(2,activation = \"softmax\")(output2)\n",
        "\n",
        "\n",
        "\n",
        "model = Model(inputs =input_list,outputs = [output1,output2] )\n",
        "\n",
        "\n",
        "#inputs = Input(input = x_train[1:])"
      ],
      "execution_count": null,
      "outputs": []
    },
    {
      "cell_type": "code",
      "metadata": {
        "id": "PsD4ygZr3A_M"
      },
      "source": [
        ""
      ],
      "execution_count": null,
      "outputs": []
    },
    {
      "cell_type": "code",
      "metadata": {
        "id": "nNAbC5K4rLIa"
      },
      "source": [
        "model.compile(optimizer=\"adam\",loss = \"sparse_categorical_crossentropy\",metrics=[\"acc\"])"
      ],
      "execution_count": null,
      "outputs": []
    },
    {
      "cell_type": "code",
      "metadata": {
        "colab": {
          "base_uri": "https://localhost:8080/"
        },
        "id": "3HedtxqqZZBw",
        "outputId": "a069aa38-cdbe-44e8-ea1b-4ba20780b653"
      },
      "source": [
        "history = model.fit((rad,tex,per),(y_train,y_train),epochs = 50)\n"
      ],
      "execution_count": null,
      "outputs": [
        {
          "output_type": "stream",
          "text": [
            "Epoch 1/50\n",
            "14/14 [==============================] - 1s 2ms/step - loss: 19.1876 - dense_1_loss: 9.6956 - dense_3_loss: 9.4919 - dense_1_acc: 0.3732 - dense_3_acc: 0.6268\n",
            "Epoch 2/50\n",
            "14/14 [==============================] - 0s 3ms/step - loss: 3.7617 - dense_1_loss: 1.8277 - dense_3_loss: 1.9340 - dense_1_acc: 0.5869 - dense_3_acc: 0.4906\n",
            "Epoch 3/50\n",
            "14/14 [==============================] - 0s 2ms/step - loss: 2.0144 - dense_1_loss: 0.9552 - dense_3_loss: 1.0592 - dense_1_acc: 0.4390 - dense_3_acc: 0.5305\n",
            "Epoch 4/50\n",
            "14/14 [==============================] - 0s 2ms/step - loss: 1.4600 - dense_1_loss: 0.7399 - dense_3_loss: 0.7201 - dense_1_acc: 0.5657 - dense_3_acc: 0.5516\n",
            "Epoch 5/50\n",
            "14/14 [==============================] - 0s 2ms/step - loss: 1.3071 - dense_1_loss: 0.6641 - dense_3_loss: 0.6429 - dense_1_acc: 0.6221 - dense_3_acc: 0.6455\n",
            "Epoch 6/50\n",
            "14/14 [==============================] - 0s 2ms/step - loss: 1.2692 - dense_1_loss: 0.6362 - dense_3_loss: 0.6329 - dense_1_acc: 0.6408 - dense_3_acc: 0.6103\n",
            "Epoch 7/50\n",
            "14/14 [==============================] - 0s 2ms/step - loss: 1.2227 - dense_1_loss: 0.6072 - dense_3_loss: 0.6155 - dense_1_acc: 0.6761 - dense_3_acc: 0.6596\n",
            "Epoch 8/50\n",
            "14/14 [==============================] - 0s 2ms/step - loss: 1.2007 - dense_1_loss: 0.5924 - dense_3_loss: 0.6082 - dense_1_acc: 0.6948 - dense_3_acc: 0.6690\n",
            "Epoch 9/50\n",
            "14/14 [==============================] - 0s 2ms/step - loss: 1.1800 - dense_1_loss: 0.5772 - dense_3_loss: 0.6027 - dense_1_acc: 0.7089 - dense_3_acc: 0.6620\n",
            "Epoch 10/50\n",
            "14/14 [==============================] - 0s 3ms/step - loss: 1.1833 - dense_1_loss: 0.5796 - dense_3_loss: 0.6037 - dense_1_acc: 0.7042 - dense_3_acc: 0.6620\n",
            "Epoch 11/50\n",
            "14/14 [==============================] - 0s 2ms/step - loss: 1.1728 - dense_1_loss: 0.5705 - dense_3_loss: 0.6023 - dense_1_acc: 0.7113 - dense_3_acc: 0.6831\n",
            "Epoch 12/50\n",
            "14/14 [==============================] - 0s 2ms/step - loss: 1.1785 - dense_1_loss: 0.5743 - dense_3_loss: 0.6041 - dense_1_acc: 0.6948 - dense_3_acc: 0.6667\n",
            "Epoch 13/50\n",
            "14/14 [==============================] - 0s 2ms/step - loss: 1.1766 - dense_1_loss: 0.5741 - dense_3_loss: 0.6025 - dense_1_acc: 0.6878 - dense_3_acc: 0.6643\n",
            "Epoch 14/50\n",
            "14/14 [==============================] - 0s 2ms/step - loss: 1.1665 - dense_1_loss: 0.5664 - dense_3_loss: 0.6001 - dense_1_acc: 0.7136 - dense_3_acc: 0.6690\n",
            "Epoch 15/50\n",
            "14/14 [==============================] - 0s 2ms/step - loss: 1.1523 - dense_1_loss: 0.5560 - dense_3_loss: 0.5963 - dense_1_acc: 0.7254 - dense_3_acc: 0.6854\n",
            "Epoch 16/50\n",
            "14/14 [==============================] - 0s 2ms/step - loss: 1.2533 - dense_1_loss: 0.6064 - dense_3_loss: 0.6468 - dense_1_acc: 0.6878 - dense_3_acc: 0.6455\n",
            "Epoch 17/50\n",
            "14/14 [==============================] - 0s 2ms/step - loss: 1.1638 - dense_1_loss: 0.5536 - dense_3_loss: 0.6102 - dense_1_acc: 0.7207 - dense_3_acc: 0.6549\n",
            "Epoch 18/50\n",
            "14/14 [==============================] - 0s 2ms/step - loss: 1.1630 - dense_1_loss: 0.5521 - dense_3_loss: 0.6110 - dense_1_acc: 0.7441 - dense_3_acc: 0.6643\n",
            "Epoch 19/50\n",
            "14/14 [==============================] - 0s 2ms/step - loss: 1.2076 - dense_1_loss: 0.5741 - dense_3_loss: 0.6335 - dense_1_acc: 0.6878 - dense_3_acc: 0.6197\n",
            "Epoch 20/50\n",
            "14/14 [==============================] - 0s 2ms/step - loss: 1.1809 - dense_1_loss: 0.5703 - dense_3_loss: 0.6106 - dense_1_acc: 0.6995 - dense_3_acc: 0.6667\n",
            "Epoch 21/50\n",
            "14/14 [==============================] - 0s 2ms/step - loss: 1.1523 - dense_1_loss: 0.5575 - dense_3_loss: 0.5948 - dense_1_acc: 0.7324 - dense_3_acc: 0.6549\n",
            "Epoch 22/50\n",
            "14/14 [==============================] - 0s 2ms/step - loss: 1.1402 - dense_1_loss: 0.5529 - dense_3_loss: 0.5872 - dense_1_acc: 0.7066 - dense_3_acc: 0.6761\n",
            "Epoch 23/50\n",
            "14/14 [==============================] - 0s 2ms/step - loss: 1.1268 - dense_1_loss: 0.5440 - dense_3_loss: 0.5828 - dense_1_acc: 0.7347 - dense_3_acc: 0.6784\n",
            "Epoch 24/50\n",
            "14/14 [==============================] - 0s 2ms/step - loss: 1.1254 - dense_1_loss: 0.5443 - dense_3_loss: 0.5811 - dense_1_acc: 0.7254 - dense_3_acc: 0.6714\n",
            "Epoch 25/50\n",
            "14/14 [==============================] - 0s 2ms/step - loss: 1.1539 - dense_1_loss: 0.5529 - dense_3_loss: 0.6010 - dense_1_acc: 0.7136 - dense_3_acc: 0.6502\n",
            "Epoch 26/50\n",
            "14/14 [==============================] - 0s 2ms/step - loss: 1.1142 - dense_1_loss: 0.5368 - dense_3_loss: 0.5774 - dense_1_acc: 0.7441 - dense_3_acc: 0.6784\n",
            "Epoch 27/50\n",
            "14/14 [==============================] - 0s 2ms/step - loss: 1.1092 - dense_1_loss: 0.5339 - dense_3_loss: 0.5752 - dense_1_acc: 0.7418 - dense_3_acc: 0.6808\n",
            "Epoch 28/50\n",
            "14/14 [==============================] - 0s 2ms/step - loss: 1.0935 - dense_1_loss: 0.5251 - dense_3_loss: 0.5685 - dense_1_acc: 0.7512 - dense_3_acc: 0.6901\n",
            "Epoch 29/50\n",
            "14/14 [==============================] - 0s 2ms/step - loss: 1.1402 - dense_1_loss: 0.5522 - dense_3_loss: 0.5880 - dense_1_acc: 0.7089 - dense_3_acc: 0.6901\n",
            "Epoch 30/50\n",
            "14/14 [==============================] - 0s 2ms/step - loss: 1.1295 - dense_1_loss: 0.5493 - dense_3_loss: 0.5802 - dense_1_acc: 0.7347 - dense_3_acc: 0.6995\n",
            "Epoch 31/50\n",
            "14/14 [==============================] - 0s 2ms/step - loss: 1.1234 - dense_1_loss: 0.5420 - dense_3_loss: 0.5813 - dense_1_acc: 0.7465 - dense_3_acc: 0.6995\n",
            "Epoch 32/50\n",
            "14/14 [==============================] - 0s 2ms/step - loss: 1.0986 - dense_1_loss: 0.5291 - dense_3_loss: 0.5696 - dense_1_acc: 0.7559 - dense_3_acc: 0.6995\n",
            "Epoch 33/50\n",
            "14/14 [==============================] - 0s 2ms/step - loss: 1.0915 - dense_1_loss: 0.5301 - dense_3_loss: 0.5614 - dense_1_acc: 0.7488 - dense_3_acc: 0.7066\n",
            "Epoch 34/50\n",
            "14/14 [==============================] - 0s 2ms/step - loss: 1.0947 - dense_1_loss: 0.5309 - dense_3_loss: 0.5638 - dense_1_acc: 0.7371 - dense_3_acc: 0.7066\n",
            "Epoch 35/50\n",
            "14/14 [==============================] - 0s 2ms/step - loss: 1.0704 - dense_1_loss: 0.5074 - dense_3_loss: 0.5630 - dense_1_acc: 0.7559 - dense_3_acc: 0.7136\n",
            "Epoch 36/50\n",
            "14/14 [==============================] - 0s 2ms/step - loss: 1.2272 - dense_1_loss: 0.5692 - dense_3_loss: 0.6580 - dense_1_acc: 0.6925 - dense_3_acc: 0.6408\n",
            "Epoch 37/50\n",
            "14/14 [==============================] - 0s 2ms/step - loss: 1.1682 - dense_1_loss: 0.5367 - dense_3_loss: 0.6316 - dense_1_acc: 0.7230 - dense_3_acc: 0.6526\n",
            "Epoch 38/50\n",
            "14/14 [==============================] - 0s 2ms/step - loss: 1.1135 - dense_1_loss: 0.5172 - dense_3_loss: 0.5963 - dense_1_acc: 0.7418 - dense_3_acc: 0.6831\n",
            "Epoch 39/50\n",
            "14/14 [==============================] - 0s 2ms/step - loss: 1.0996 - dense_1_loss: 0.5182 - dense_3_loss: 0.5814 - dense_1_acc: 0.7488 - dense_3_acc: 0.6901\n",
            "Epoch 40/50\n",
            "14/14 [==============================] - 0s 2ms/step - loss: 1.1310 - dense_1_loss: 0.5354 - dense_3_loss: 0.5955 - dense_1_acc: 0.7113 - dense_3_acc: 0.6714\n",
            "Epoch 41/50\n",
            "14/14 [==============================] - 0s 2ms/step - loss: 1.0670 - dense_1_loss: 0.5187 - dense_3_loss: 0.5483 - dense_1_acc: 0.7676 - dense_3_acc: 0.7230\n",
            "Epoch 42/50\n",
            "14/14 [==============================] - 0s 2ms/step - loss: 1.0454 - dense_1_loss: 0.4946 - dense_3_loss: 0.5508 - dense_1_acc: 0.7887 - dense_3_acc: 0.7230\n",
            "Epoch 43/50\n",
            "14/14 [==============================] - 0s 2ms/step - loss: 1.0470 - dense_1_loss: 0.4960 - dense_3_loss: 0.5510 - dense_1_acc: 0.7700 - dense_3_acc: 0.7230\n",
            "Epoch 44/50\n",
            "14/14 [==============================] - 0s 2ms/step - loss: 1.0540 - dense_1_loss: 0.5102 - dense_3_loss: 0.5438 - dense_1_acc: 0.7887 - dense_3_acc: 0.7512\n",
            "Epoch 45/50\n",
            "14/14 [==============================] - 0s 2ms/step - loss: 1.0901 - dense_1_loss: 0.5343 - dense_3_loss: 0.5557 - dense_1_acc: 0.7089 - dense_3_acc: 0.7089\n",
            "Epoch 46/50\n",
            "14/14 [==============================] - 0s 2ms/step - loss: 1.0673 - dense_1_loss: 0.5039 - dense_3_loss: 0.5634 - dense_1_acc: 0.7559 - dense_3_acc: 0.6925\n",
            "Epoch 47/50\n",
            "14/14 [==============================] - 0s 2ms/step - loss: 1.0495 - dense_1_loss: 0.5093 - dense_3_loss: 0.5402 - dense_1_acc: 0.7676 - dense_3_acc: 0.7371\n",
            "Epoch 48/50\n",
            "14/14 [==============================] - 0s 5ms/step - loss: 1.0575 - dense_1_loss: 0.5198 - dense_3_loss: 0.5377 - dense_1_acc: 0.7371 - dense_3_acc: 0.7371\n",
            "Epoch 49/50\n",
            "14/14 [==============================] - 0s 2ms/step - loss: 1.0636 - dense_1_loss: 0.5186 - dense_3_loss: 0.5450 - dense_1_acc: 0.7465 - dense_3_acc: 0.7254\n",
            "Epoch 50/50\n",
            "14/14 [==============================] - 0s 2ms/step - loss: 1.1023 - dense_1_loss: 0.5298 - dense_3_loss: 0.5725 - dense_1_acc: 0.7300 - dense_3_acc: 0.6854\n"
          ],
          "name": "stdout"
        }
      ]
    },
    {
      "cell_type": "code",
      "metadata": {
        "id": "hy9SUgCMZdMI"
      },
      "source": [
        "rad_test,tex_test,per_test = x_test.transpose()"
      ],
      "execution_count": null,
      "outputs": []
    },
    {
      "cell_type": "code",
      "metadata": {
        "colab": {
          "base_uri": "https://localhost:8080/"
        },
        "id": "MBfn4o5k31Qf",
        "outputId": "303a568e-614f-4727-bbf1-5f7485f74261"
      },
      "source": [
        "l = model.evaluate((rad_test,tex_test,per_test),(y_test,y_test))"
      ],
      "execution_count": null,
      "outputs": [
        {
          "output_type": "stream",
          "text": [
            "5/5 [==============================] - 0s 3ms/step - loss: 1.0456 - dense_1_loss: 0.4758 - dense_3_loss: 0.5698 - dense_1_acc: 0.7972 - dense_3_acc: 0.6643\n"
          ],
          "name": "stdout"
        }
      ]
    },
    {
      "cell_type": "code",
      "metadata": {
        "colab": {
          "base_uri": "https://localhost:8080/"
        },
        "id": "30dRI7M24UV8",
        "outputId": "205e8d98-3810-4b93-f38a-db2583c61db3"
      },
      "source": [
        "l"
      ],
      "execution_count": null,
      "outputs": [
        {
          "output_type": "execute_result",
          "data": {
            "text/plain": [
              "[1.045581579208374,\n",
              " 0.4758237898349762,\n",
              " 0.5697576999664307,\n",
              " 0.7972028255462646,\n",
              " 0.6643356680870056]"
            ]
          },
          "metadata": {
            "tags": []
          },
          "execution_count": 13
        }
      ]
    },
    {
      "cell_type": "code",
      "metadata": {
        "colab": {
          "base_uri": "https://localhost:8080/",
          "height": 1000
        },
        "id": "OCf6vY6L4lg-",
        "outputId": "359b9651-7900-410b-cb56-bb382b65b642"
      },
      "source": [
        "\n",
        "his = pd.DataFrame(history.history)\n",
        "\n",
        "his"
      ],
      "execution_count": null,
      "outputs": [
        {
          "output_type": "execute_result",
          "data": {
            "text/html": [
              "<div>\n",
              "<style scoped>\n",
              "    .dataframe tbody tr th:only-of-type {\n",
              "        vertical-align: middle;\n",
              "    }\n",
              "\n",
              "    .dataframe tbody tr th {\n",
              "        vertical-align: top;\n",
              "    }\n",
              "\n",
              "    .dataframe thead th {\n",
              "        text-align: right;\n",
              "    }\n",
              "</style>\n",
              "<table border=\"1\" class=\"dataframe\">\n",
              "  <thead>\n",
              "    <tr style=\"text-align: right;\">\n",
              "      <th></th>\n",
              "      <th>loss</th>\n",
              "      <th>dense_1_loss</th>\n",
              "      <th>dense_3_loss</th>\n",
              "      <th>dense_1_acc</th>\n",
              "      <th>dense_3_acc</th>\n",
              "    </tr>\n",
              "  </thead>\n",
              "  <tbody>\n",
              "    <tr>\n",
              "      <th>0</th>\n",
              "      <td>19.187580</td>\n",
              "      <td>9.695649</td>\n",
              "      <td>9.491928</td>\n",
              "      <td>0.373239</td>\n",
              "      <td>0.626761</td>\n",
              "    </tr>\n",
              "    <tr>\n",
              "      <th>1</th>\n",
              "      <td>3.761690</td>\n",
              "      <td>1.827735</td>\n",
              "      <td>1.933955</td>\n",
              "      <td>0.586854</td>\n",
              "      <td>0.490610</td>\n",
              "    </tr>\n",
              "    <tr>\n",
              "      <th>2</th>\n",
              "      <td>2.014376</td>\n",
              "      <td>0.955191</td>\n",
              "      <td>1.059185</td>\n",
              "      <td>0.438967</td>\n",
              "      <td>0.530516</td>\n",
              "    </tr>\n",
              "    <tr>\n",
              "      <th>3</th>\n",
              "      <td>1.460025</td>\n",
              "      <td>0.739928</td>\n",
              "      <td>0.720097</td>\n",
              "      <td>0.565728</td>\n",
              "      <td>0.551643</td>\n",
              "    </tr>\n",
              "    <tr>\n",
              "      <th>4</th>\n",
              "      <td>1.307065</td>\n",
              "      <td>0.664119</td>\n",
              "      <td>0.642945</td>\n",
              "      <td>0.622066</td>\n",
              "      <td>0.645540</td>\n",
              "    </tr>\n",
              "    <tr>\n",
              "      <th>5</th>\n",
              "      <td>1.269194</td>\n",
              "      <td>0.636249</td>\n",
              "      <td>0.632945</td>\n",
              "      <td>0.640845</td>\n",
              "      <td>0.610329</td>\n",
              "    </tr>\n",
              "    <tr>\n",
              "      <th>6</th>\n",
              "      <td>1.222684</td>\n",
              "      <td>0.607227</td>\n",
              "      <td>0.615456</td>\n",
              "      <td>0.676056</td>\n",
              "      <td>0.659624</td>\n",
              "    </tr>\n",
              "    <tr>\n",
              "      <th>7</th>\n",
              "      <td>1.200659</td>\n",
              "      <td>0.592441</td>\n",
              "      <td>0.608218</td>\n",
              "      <td>0.694836</td>\n",
              "      <td>0.669014</td>\n",
              "    </tr>\n",
              "    <tr>\n",
              "      <th>8</th>\n",
              "      <td>1.179958</td>\n",
              "      <td>0.577213</td>\n",
              "      <td>0.602745</td>\n",
              "      <td>0.708920</td>\n",
              "      <td>0.661972</td>\n",
              "    </tr>\n",
              "    <tr>\n",
              "      <th>9</th>\n",
              "      <td>1.183283</td>\n",
              "      <td>0.579618</td>\n",
              "      <td>0.603665</td>\n",
              "      <td>0.704225</td>\n",
              "      <td>0.661972</td>\n",
              "    </tr>\n",
              "    <tr>\n",
              "      <th>10</th>\n",
              "      <td>1.172815</td>\n",
              "      <td>0.570519</td>\n",
              "      <td>0.602296</td>\n",
              "      <td>0.711268</td>\n",
              "      <td>0.683099</td>\n",
              "    </tr>\n",
              "    <tr>\n",
              "      <th>11</th>\n",
              "      <td>1.178482</td>\n",
              "      <td>0.574337</td>\n",
              "      <td>0.604145</td>\n",
              "      <td>0.694836</td>\n",
              "      <td>0.666667</td>\n",
              "    </tr>\n",
              "    <tr>\n",
              "      <th>12</th>\n",
              "      <td>1.176601</td>\n",
              "      <td>0.574123</td>\n",
              "      <td>0.602478</td>\n",
              "      <td>0.687793</td>\n",
              "      <td>0.664319</td>\n",
              "    </tr>\n",
              "    <tr>\n",
              "      <th>13</th>\n",
              "      <td>1.166486</td>\n",
              "      <td>0.566364</td>\n",
              "      <td>0.600122</td>\n",
              "      <td>0.713615</td>\n",
              "      <td>0.669014</td>\n",
              "    </tr>\n",
              "    <tr>\n",
              "      <th>14</th>\n",
              "      <td>1.152336</td>\n",
              "      <td>0.556006</td>\n",
              "      <td>0.596330</td>\n",
              "      <td>0.725352</td>\n",
              "      <td>0.685446</td>\n",
              "    </tr>\n",
              "    <tr>\n",
              "      <th>15</th>\n",
              "      <td>1.253264</td>\n",
              "      <td>0.606419</td>\n",
              "      <td>0.646845</td>\n",
              "      <td>0.687793</td>\n",
              "      <td>0.645540</td>\n",
              "    </tr>\n",
              "    <tr>\n",
              "      <th>16</th>\n",
              "      <td>1.163825</td>\n",
              "      <td>0.553584</td>\n",
              "      <td>0.610240</td>\n",
              "      <td>0.720657</td>\n",
              "      <td>0.654930</td>\n",
              "    </tr>\n",
              "    <tr>\n",
              "      <th>17</th>\n",
              "      <td>1.163046</td>\n",
              "      <td>0.552051</td>\n",
              "      <td>0.610995</td>\n",
              "      <td>0.744131</td>\n",
              "      <td>0.664319</td>\n",
              "    </tr>\n",
              "    <tr>\n",
              "      <th>18</th>\n",
              "      <td>1.207589</td>\n",
              "      <td>0.574058</td>\n",
              "      <td>0.633531</td>\n",
              "      <td>0.687793</td>\n",
              "      <td>0.619718</td>\n",
              "    </tr>\n",
              "    <tr>\n",
              "      <th>19</th>\n",
              "      <td>1.180869</td>\n",
              "      <td>0.570290</td>\n",
              "      <td>0.610579</td>\n",
              "      <td>0.699531</td>\n",
              "      <td>0.666667</td>\n",
              "    </tr>\n",
              "    <tr>\n",
              "      <th>20</th>\n",
              "      <td>1.152279</td>\n",
              "      <td>0.557500</td>\n",
              "      <td>0.594779</td>\n",
              "      <td>0.732394</td>\n",
              "      <td>0.654930</td>\n",
              "    </tr>\n",
              "    <tr>\n",
              "      <th>21</th>\n",
              "      <td>1.140156</td>\n",
              "      <td>0.552918</td>\n",
              "      <td>0.587238</td>\n",
              "      <td>0.706573</td>\n",
              "      <td>0.676056</td>\n",
              "    </tr>\n",
              "    <tr>\n",
              "      <th>22</th>\n",
              "      <td>1.126762</td>\n",
              "      <td>0.543996</td>\n",
              "      <td>0.582766</td>\n",
              "      <td>0.734742</td>\n",
              "      <td>0.678404</td>\n",
              "    </tr>\n",
              "    <tr>\n",
              "      <th>23</th>\n",
              "      <td>1.125363</td>\n",
              "      <td>0.544283</td>\n",
              "      <td>0.581080</td>\n",
              "      <td>0.725352</td>\n",
              "      <td>0.671362</td>\n",
              "    </tr>\n",
              "    <tr>\n",
              "      <th>24</th>\n",
              "      <td>1.153867</td>\n",
              "      <td>0.552853</td>\n",
              "      <td>0.601014</td>\n",
              "      <td>0.713615</td>\n",
              "      <td>0.650235</td>\n",
              "    </tr>\n",
              "    <tr>\n",
              "      <th>25</th>\n",
              "      <td>1.114225</td>\n",
              "      <td>0.536847</td>\n",
              "      <td>0.577379</td>\n",
              "      <td>0.744131</td>\n",
              "      <td>0.678404</td>\n",
              "    </tr>\n",
              "    <tr>\n",
              "      <th>26</th>\n",
              "      <td>1.109159</td>\n",
              "      <td>0.533932</td>\n",
              "      <td>0.575227</td>\n",
              "      <td>0.741784</td>\n",
              "      <td>0.680751</td>\n",
              "    </tr>\n",
              "    <tr>\n",
              "      <th>27</th>\n",
              "      <td>1.093547</td>\n",
              "      <td>0.525059</td>\n",
              "      <td>0.568488</td>\n",
              "      <td>0.751174</td>\n",
              "      <td>0.690141</td>\n",
              "    </tr>\n",
              "    <tr>\n",
              "      <th>28</th>\n",
              "      <td>1.140197</td>\n",
              "      <td>0.552158</td>\n",
              "      <td>0.588039</td>\n",
              "      <td>0.708920</td>\n",
              "      <td>0.690141</td>\n",
              "    </tr>\n",
              "    <tr>\n",
              "      <th>29</th>\n",
              "      <td>1.129515</td>\n",
              "      <td>0.549311</td>\n",
              "      <td>0.580204</td>\n",
              "      <td>0.734742</td>\n",
              "      <td>0.699531</td>\n",
              "    </tr>\n",
              "    <tr>\n",
              "      <th>30</th>\n",
              "      <td>1.123383</td>\n",
              "      <td>0.542038</td>\n",
              "      <td>0.581345</td>\n",
              "      <td>0.746479</td>\n",
              "      <td>0.699531</td>\n",
              "    </tr>\n",
              "    <tr>\n",
              "      <th>31</th>\n",
              "      <td>1.098620</td>\n",
              "      <td>0.529054</td>\n",
              "      <td>0.569566</td>\n",
              "      <td>0.755869</td>\n",
              "      <td>0.699531</td>\n",
              "    </tr>\n",
              "    <tr>\n",
              "      <th>32</th>\n",
              "      <td>1.091471</td>\n",
              "      <td>0.530068</td>\n",
              "      <td>0.561403</td>\n",
              "      <td>0.748826</td>\n",
              "      <td>0.706573</td>\n",
              "    </tr>\n",
              "    <tr>\n",
              "      <th>33</th>\n",
              "      <td>1.094690</td>\n",
              "      <td>0.530881</td>\n",
              "      <td>0.563809</td>\n",
              "      <td>0.737089</td>\n",
              "      <td>0.706573</td>\n",
              "    </tr>\n",
              "    <tr>\n",
              "      <th>34</th>\n",
              "      <td>1.070409</td>\n",
              "      <td>0.507385</td>\n",
              "      <td>0.563024</td>\n",
              "      <td>0.755869</td>\n",
              "      <td>0.713615</td>\n",
              "    </tr>\n",
              "    <tr>\n",
              "      <th>35</th>\n",
              "      <td>1.227180</td>\n",
              "      <td>0.569210</td>\n",
              "      <td>0.657969</td>\n",
              "      <td>0.692488</td>\n",
              "      <td>0.640845</td>\n",
              "    </tr>\n",
              "    <tr>\n",
              "      <th>36</th>\n",
              "      <td>1.168234</td>\n",
              "      <td>0.536680</td>\n",
              "      <td>0.631554</td>\n",
              "      <td>0.723005</td>\n",
              "      <td>0.652582</td>\n",
              "    </tr>\n",
              "    <tr>\n",
              "      <th>37</th>\n",
              "      <td>1.113542</td>\n",
              "      <td>0.517194</td>\n",
              "      <td>0.596348</td>\n",
              "      <td>0.741784</td>\n",
              "      <td>0.683099</td>\n",
              "    </tr>\n",
              "    <tr>\n",
              "      <th>38</th>\n",
              "      <td>1.099583</td>\n",
              "      <td>0.518197</td>\n",
              "      <td>0.581385</td>\n",
              "      <td>0.748826</td>\n",
              "      <td>0.690141</td>\n",
              "    </tr>\n",
              "    <tr>\n",
              "      <th>39</th>\n",
              "      <td>1.130989</td>\n",
              "      <td>0.535445</td>\n",
              "      <td>0.595544</td>\n",
              "      <td>0.711268</td>\n",
              "      <td>0.671362</td>\n",
              "    </tr>\n",
              "    <tr>\n",
              "      <th>40</th>\n",
              "      <td>1.066996</td>\n",
              "      <td>0.518728</td>\n",
              "      <td>0.548268</td>\n",
              "      <td>0.767606</td>\n",
              "      <td>0.723005</td>\n",
              "    </tr>\n",
              "    <tr>\n",
              "      <th>41</th>\n",
              "      <td>1.045368</td>\n",
              "      <td>0.494580</td>\n",
              "      <td>0.550788</td>\n",
              "      <td>0.788732</td>\n",
              "      <td>0.723005</td>\n",
              "    </tr>\n",
              "    <tr>\n",
              "      <th>42</th>\n",
              "      <td>1.046979</td>\n",
              "      <td>0.496027</td>\n",
              "      <td>0.550952</td>\n",
              "      <td>0.769953</td>\n",
              "      <td>0.723005</td>\n",
              "    </tr>\n",
              "    <tr>\n",
              "      <th>43</th>\n",
              "      <td>1.054003</td>\n",
              "      <td>0.510225</td>\n",
              "      <td>0.543778</td>\n",
              "      <td>0.788732</td>\n",
              "      <td>0.751174</td>\n",
              "    </tr>\n",
              "    <tr>\n",
              "      <th>44</th>\n",
              "      <td>1.090078</td>\n",
              "      <td>0.534343</td>\n",
              "      <td>0.555734</td>\n",
              "      <td>0.708920</td>\n",
              "      <td>0.708920</td>\n",
              "    </tr>\n",
              "    <tr>\n",
              "      <th>45</th>\n",
              "      <td>1.067298</td>\n",
              "      <td>0.503864</td>\n",
              "      <td>0.563434</td>\n",
              "      <td>0.755869</td>\n",
              "      <td>0.692488</td>\n",
              "    </tr>\n",
              "    <tr>\n",
              "      <th>46</th>\n",
              "      <td>1.049497</td>\n",
              "      <td>0.509335</td>\n",
              "      <td>0.540162</td>\n",
              "      <td>0.767606</td>\n",
              "      <td>0.737089</td>\n",
              "    </tr>\n",
              "    <tr>\n",
              "      <th>47</th>\n",
              "      <td>1.057531</td>\n",
              "      <td>0.519782</td>\n",
              "      <td>0.537749</td>\n",
              "      <td>0.737089</td>\n",
              "      <td>0.737089</td>\n",
              "    </tr>\n",
              "    <tr>\n",
              "      <th>48</th>\n",
              "      <td>1.063599</td>\n",
              "      <td>0.518590</td>\n",
              "      <td>0.545010</td>\n",
              "      <td>0.746479</td>\n",
              "      <td>0.725352</td>\n",
              "    </tr>\n",
              "    <tr>\n",
              "      <th>49</th>\n",
              "      <td>1.102291</td>\n",
              "      <td>0.529797</td>\n",
              "      <td>0.572494</td>\n",
              "      <td>0.730047</td>\n",
              "      <td>0.685446</td>\n",
              "    </tr>\n",
              "  </tbody>\n",
              "</table>\n",
              "</div>"
            ],
            "text/plain": [
              "         loss  dense_1_loss  dense_3_loss  dense_1_acc  dense_3_acc\n",
              "0   19.187580      9.695649      9.491928     0.373239     0.626761\n",
              "1    3.761690      1.827735      1.933955     0.586854     0.490610\n",
              "2    2.014376      0.955191      1.059185     0.438967     0.530516\n",
              "3    1.460025      0.739928      0.720097     0.565728     0.551643\n",
              "4    1.307065      0.664119      0.642945     0.622066     0.645540\n",
              "5    1.269194      0.636249      0.632945     0.640845     0.610329\n",
              "6    1.222684      0.607227      0.615456     0.676056     0.659624\n",
              "7    1.200659      0.592441      0.608218     0.694836     0.669014\n",
              "8    1.179958      0.577213      0.602745     0.708920     0.661972\n",
              "9    1.183283      0.579618      0.603665     0.704225     0.661972\n",
              "10   1.172815      0.570519      0.602296     0.711268     0.683099\n",
              "11   1.178482      0.574337      0.604145     0.694836     0.666667\n",
              "12   1.176601      0.574123      0.602478     0.687793     0.664319\n",
              "13   1.166486      0.566364      0.600122     0.713615     0.669014\n",
              "14   1.152336      0.556006      0.596330     0.725352     0.685446\n",
              "15   1.253264      0.606419      0.646845     0.687793     0.645540\n",
              "16   1.163825      0.553584      0.610240     0.720657     0.654930\n",
              "17   1.163046      0.552051      0.610995     0.744131     0.664319\n",
              "18   1.207589      0.574058      0.633531     0.687793     0.619718\n",
              "19   1.180869      0.570290      0.610579     0.699531     0.666667\n",
              "20   1.152279      0.557500      0.594779     0.732394     0.654930\n",
              "21   1.140156      0.552918      0.587238     0.706573     0.676056\n",
              "22   1.126762      0.543996      0.582766     0.734742     0.678404\n",
              "23   1.125363      0.544283      0.581080     0.725352     0.671362\n",
              "24   1.153867      0.552853      0.601014     0.713615     0.650235\n",
              "25   1.114225      0.536847      0.577379     0.744131     0.678404\n",
              "26   1.109159      0.533932      0.575227     0.741784     0.680751\n",
              "27   1.093547      0.525059      0.568488     0.751174     0.690141\n",
              "28   1.140197      0.552158      0.588039     0.708920     0.690141\n",
              "29   1.129515      0.549311      0.580204     0.734742     0.699531\n",
              "30   1.123383      0.542038      0.581345     0.746479     0.699531\n",
              "31   1.098620      0.529054      0.569566     0.755869     0.699531\n",
              "32   1.091471      0.530068      0.561403     0.748826     0.706573\n",
              "33   1.094690      0.530881      0.563809     0.737089     0.706573\n",
              "34   1.070409      0.507385      0.563024     0.755869     0.713615\n",
              "35   1.227180      0.569210      0.657969     0.692488     0.640845\n",
              "36   1.168234      0.536680      0.631554     0.723005     0.652582\n",
              "37   1.113542      0.517194      0.596348     0.741784     0.683099\n",
              "38   1.099583      0.518197      0.581385     0.748826     0.690141\n",
              "39   1.130989      0.535445      0.595544     0.711268     0.671362\n",
              "40   1.066996      0.518728      0.548268     0.767606     0.723005\n",
              "41   1.045368      0.494580      0.550788     0.788732     0.723005\n",
              "42   1.046979      0.496027      0.550952     0.769953     0.723005\n",
              "43   1.054003      0.510225      0.543778     0.788732     0.751174\n",
              "44   1.090078      0.534343      0.555734     0.708920     0.708920\n",
              "45   1.067298      0.503864      0.563434     0.755869     0.692488\n",
              "46   1.049497      0.509335      0.540162     0.767606     0.737089\n",
              "47   1.057531      0.519782      0.537749     0.737089     0.737089\n",
              "48   1.063599      0.518590      0.545010     0.746479     0.725352\n",
              "49   1.102291      0.529797      0.572494     0.730047     0.685446"
            ]
          },
          "metadata": {
            "tags": []
          },
          "execution_count": 14
        }
      ]
    },
    {
      "cell_type": "code",
      "metadata": {
        "colab": {
          "base_uri": "https://localhost:8080/",
          "height": 268
        },
        "id": "4nxg4t4O5EPd",
        "outputId": "313bd3aa-6892-4947-ab5d-ae89a3878e2b"
      },
      "source": [
        "#plt.plot(range(len(hist)), hist\n",
        "his.plot().legend(loc = \"upper right\")\n",
        "plt.show()\n"
      ],
      "execution_count": null,
      "outputs": [
        {
          "output_type": "display_data",
          "data": {
            "image/png": "[encoded data removed]",
            "text/plain": [
              "<Figure size 432x288 with 1 Axes>"
            ]
          },
          "metadata": {
            "tags": [],
            "needs_background": "light"
          }
        }
      ]
    },
    {
      "cell_type": "markdown",
      "metadata": {
        "id": "sxwis1SvCVIX"
      },
      "source": [
        "## Creating tensorflow Variables"
      ]
    },
    {
      "cell_type": "code",
      "metadata": {
        "colab": {
          "base_uri": "https://localhost:8080/"
        },
        "id": "Pkmgfp2eCagO",
        "outputId": "7dfb6fd4-d089-49e9-ee40-f4867d5de6fa"
      },
      "source": [
        "var = tf.Variable([[5],[4],[4],[5],[3]])\n",
        "var\n",
        "\n"
      ],
      "execution_count": null,
      "outputs": [
        {
          "output_type": "execute_result",
          "data": {
            "text/plain": [
              "<tf.Variable 'Variable:0' shape=(5, 1) dtype=int32, numpy=\n",
              "array([[5],\n",
              "       [4],\n",
              "       [4],\n",
              "       [5],\n",
              "       [3]], dtype=int32)>"
            ]
          },
          "metadata": {
            "tags": []
          },
          "execution_count": 16
        }
      ]
    },
    {
      "cell_type": "code",
      "metadata": {
        "id": "eTzluzkwCk1g"
      },
      "source": [
        "from tensorflow.keras.models import Sequential\n",
        "from tensorflow.keras.layers import Dense\n",
        "\n",
        "test_model = Sequential([Dense(1,activation = \"softmax\",input_shape = (4,))])"
      ],
      "execution_count": null,
      "outputs": []
    },
    {
      "cell_type": "code",
      "metadata": {
        "id": "p-VCG9oZFELu"
      },
      "source": [
        "test_model.compile(optimizer=\"adam\",loss = \"sparse_categorical_crossentropy\",metrics=[\"acc\"])"
      ],
      "execution_count": null,
      "outputs": []
    },
    {
      "cell_type": "code",
      "metadata": {
        "colab": {
          "base_uri": "https://localhost:8080/"
        },
        "id": "BWst-IBJFTeJ",
        "outputId": "1293ab4c-bc1a-41e7-a7f6-97e74f122ca5"
      },
      "source": [
        "test_model(tf.Variable([[1,2,3,4]]),tf.Variable(1))\n"
      ],
      "execution_count": null,
      "outputs": [
        {
          "output_type": "execute_result",
          "data": {
            "text/plain": [
              "<tf.Tensor: shape=(1, 1), dtype=float32, numpy=array([[1.]], dtype=float32)>"
            ]
          },
          "metadata": {
            "tags": []
          },
          "execution_count": 19
        }
      ]
    },
    {
      "cell_type": "code",
      "metadata": {
        "colab": {
          "base_uri": "https://localhost:8080/"
        },
        "id": "f7FaHLNuJkAP",
        "outputId": "2baec6f8-c2cb-482d-869d-4a802a778368"
      },
      "source": [
        "from tensorflow.keras.models import Model\n",
        "from tensorflow.keras import Input\n",
        "input  = Input(shape = (5,))\n",
        "output  = Dense(1,activation =\"sigmoid\")(input)\n",
        "\n",
        "model = Model(inputs = input,outputs =output)\n",
        "print(input,output,model.weights,model)"
      ],
      "execution_count": null,
      "outputs": [
        {
          "output_type": "stream",
          "text": [
            "KerasTensor(type_spec=TensorSpec(shape=(None, 5), dtype=tf.float32, name='input_1'), name='input_1', description=\"created by layer 'input_1'\") KerasTensor(type_spec=TensorSpec(shape=(None, 1), dtype=tf.float32, name=None), name='dense_5/Sigmoid:0', description=\"created by layer 'dense_5'\") [<tf.Variable 'dense_5/kernel:0' shape=(5, 1) dtype=float32, numpy=\n",
            "array([[ 0.9015906 ],\n",
            "       [-0.9398279 ],\n",
            "       [-0.14922142],\n",
            "       [-0.59772086],\n",
            "       [-0.24948215]], dtype=float32)>, <tf.Variable 'dense_5/bias:0' shape=(1,) dtype=float32, numpy=array([0.], dtype=float32)>] <tensorflow.python.keras.engine.functional.Functional object at 0x7f452c2ab990>\n"
          ],
          "name": "stdout"
        }
      ]
    },
    {
      "cell_type": "code",
      "metadata": {
        "colab": {
          "base_uri": "https://localhost:8080/"
        },
        "id": "Pk0KjuCKKOJK",
        "outputId": "256a0536-6f40-492b-913c-d14a15df74d3"
      },
      "source": [
        "var = var.assign([[4],[4],[4],[4],[4]])\n",
        "var"
      ],
      "execution_count": null,
      "outputs": [
        {
          "output_type": "execute_result",
          "data": {
            "text/plain": [
              "<tf.Variable 'UnreadVariable' shape=(5, 1) dtype=int32, numpy=\n",
              "array([[4],\n",
              "       [4],\n",
              "       [4],\n",
              "       [4],\n",
              "       [4]], dtype=int32)>"
            ]
          },
          "metadata": {
            "tags": []
          },
          "execution_count": 21
        }
      ]
    },
    {
      "cell_type": "code",
      "metadata": {
        "colab": {
          "base_uri": "https://localhost:8080/"
        },
        "id": "aV02R1TUV9uq",
        "outputId": "9af65fd7-10c7-48ae-96c1-bb8bee49b418"
      },
      "source": [
        "var.numpy()"
      ],
      "execution_count": null,
      "outputs": [
        {
          "output_type": "execute_result",
          "data": {
            "text/plain": [
              "array([[4],\n",
              "       [4],\n",
              "       [4],\n",
              "       [4],\n",
              "       [4]], dtype=int32)"
            ]
          },
          "metadata": {
            "tags": []
          },
          "execution_count": 22
        }
      ]
    },
    {
      "cell_type": "markdown",
      "metadata": {
        "id": "T1R2UW9cWTrx"
      },
      "source": [
        "## Creating Tensorflow Tensors"
      ]
    },
    {
      "cell_type": "code",
      "metadata": {
        "id": "ltqZ09H9WXjQ"
      },
      "source": [
        "tensor1 = tf.constant([4])"
      ],
      "execution_count": null,
      "outputs": []
    },
    {
      "cell_type": "code",
      "metadata": {
        "colab": {
          "base_uri": "https://localhost:8080/"
        },
        "id": "Tonoko4SWdj6",
        "outputId": "7a4e1fca-0156-4fa5-b300-76c908347d6e"
      },
      "source": [
        "tensor1"
      ],
      "execution_count": null,
      "outputs": [
        {
          "output_type": "execute_result",
          "data": {
            "text/plain": [
              "<tf.Tensor: shape=(1,), dtype=int32, numpy=array([4], dtype=int32)>"
            ]
          },
          "metadata": {
            "tags": []
          },
          "execution_count": 24
        }
      ]
    },
    {
      "cell_type": "code",
      "metadata": {
        "colab": {
          "base_uri": "https://localhost:8080/",
          "height": 289
        },
        "id": "PiorpIb4WgwA",
        "outputId": "2695020f-dd68-4e0f-c6b1-34e9762db60e"
      },
      "source": [
        "tensor1.assign([4])"
      ],
      "execution_count": null,
      "outputs": [
        {
          "output_type": "error",
          "ename": "AttributeError",
          "evalue": "ignored",
          "traceback": [
            "\u001b[0;31m---------------------------------------------------------------------------\u001b[0m",
            "\u001b[0;31mAttributeError\u001b[0m                            Traceback (most recent call last)",
            "\u001b[0;32m<ipython-input-25-0f95a76693bc>\u001b[0m in \u001b[0;36m<module>\u001b[0;34m()\u001b[0m\n\u001b[0;32m----> 1\u001b[0;31m \u001b[0mtensor1\u001b[0m\u001b[0;34m.\u001b[0m\u001b[0massign\u001b[0m\u001b[0;34m(\u001b[0m\u001b[0;34m[\u001b[0m\u001b[0;36m4\u001b[0m\u001b[0;34m]\u001b[0m\u001b[0;34m)\u001b[0m\u001b[0;34m\u001b[0m\u001b[0;34m\u001b[0m\u001b[0m\n\u001b[0m",
            "\u001b[0;32m/usr/local/lib/python3.7/dist-packages/tensorflow/python/framework/ops.py\u001b[0m in \u001b[0;36m__getattr__\u001b[0;34m(self, name)\u001b[0m\n\u001b[1;32m    399\u001b[0m         \u001b[0;32mimport\u001b[0m \u001b[0mtensorflow\u001b[0m\u001b[0;34m.\u001b[0m\u001b[0mpython\u001b[0m\u001b[0;34m.\u001b[0m\u001b[0mops\u001b[0m\u001b[0;34m.\u001b[0m\u001b[0mnumpy_ops\u001b[0m\u001b[0;34m.\u001b[0m\u001b[0mnp_config\u001b[0m\u001b[0;34m\u001b[0m\u001b[0;34m\u001b[0m\u001b[0m\n\u001b[1;32m    400\u001b[0m         np_config.enable_numpy_behavior()\"\"\".format(type(self).__name__, name))\n\u001b[0;32m--> 401\u001b[0;31m     \u001b[0mself\u001b[0m\u001b[0;34m.\u001b[0m\u001b[0m__getattribute__\u001b[0m\u001b[0;34m(\u001b[0m\u001b[0mname\u001b[0m\u001b[0;34m)\u001b[0m\u001b[0;34m\u001b[0m\u001b[0;34m\u001b[0m\u001b[0m\n\u001b[0m\u001b[1;32m    402\u001b[0m \u001b[0;34m\u001b[0m\u001b[0m\n\u001b[1;32m    403\u001b[0m   \u001b[0;34m@\u001b[0m\u001b[0mstaticmethod\u001b[0m\u001b[0;34m\u001b[0m\u001b[0;34m\u001b[0m\u001b[0m\n",
            "\u001b[0;31mAttributeError\u001b[0m: 'tensorflow.python.framework.ops.EagerTensor' object has no attribute 'assign'"
          ]
        }
      ]
    },
    {
      "cell_type": "code",
      "metadata": {
        "colab": {
          "base_uri": "https://localhost:8080/"
        },
        "id": "hBDaRTQQWox7",
        "outputId": "8e5197c0-6a6b-4090-a728-29b70a1de4aa"
      },
      "source": [
        "tensor1.numpy()"
      ],
      "execution_count": null,
      "outputs": [
        {
          "output_type": "execute_result",
          "data": {
            "text/plain": [
              "array([4], dtype=int32)"
            ]
          },
          "metadata": {
            "tags": []
          },
          "execution_count": 26
        }
      ]
    },
    {
      "cell_type": "code",
      "metadata": {
        "id": "p_BdDCLTWvgH"
      },
      "source": [
        "string1 = tf.Variable(\"Hello World\")"
      ],
      "execution_count": null,
      "outputs": []
    },
    {
      "cell_type": "code",
      "metadata": {
        "id": "OiJH4Qlpn72S"
      },
      "source": [
        "string2  = tf.Variable([\"Hello World\"])"
      ],
      "execution_count": null,
      "outputs": []
    },
    {
      "cell_type": "code",
      "metadata": {
        "colab": {
          "base_uri": "https://localhost:8080/"
        },
        "id": "oLEJ3LtyoAAW",
        "outputId": "85d648f2-8d5d-4404-d1d2-c7f0572353d0"
      },
      "source": [
        "string1==string2"
      ],
      "execution_count": null,
      "outputs": [
        {
          "output_type": "execute_result",
          "data": {
            "text/plain": [
              "<tf.Tensor: shape=(1,), dtype=bool, numpy=array([ True])>"
            ]
          },
          "metadata": {
            "tags": []
          },
          "execution_count": 29
        }
      ]
    },
    {
      "cell_type": "code",
      "metadata": {
        "colab": {
          "base_uri": "https://localhost:8080/"
        },
        "id": "pFc_Ei1CoCSe",
        "outputId": "b2544429-10df-4321-e194-804ed7b4e9cd"
      },
      "source": [
        "string1.shape, string2.shape"
      ],
      "execution_count": null,
      "outputs": [
        {
          "output_type": "execute_result",
          "data": {
            "text/plain": [
              "(TensorShape([]), TensorShape([1]))"
            ]
          },
          "metadata": {
            "tags": []
          },
          "execution_count": 30
        }
      ]
    },
    {
      "cell_type": "code",
      "metadata": {
        "id": "HJpnLDcKoWj_"
      },
      "source": [
        "a= tf.Variable(tf.constant(3.4,shape=(4,5)))"
      ],
      "execution_count": null,
      "outputs": []
    },
    {
      "cell_type": "code",
      "metadata": {
        "colab": {
          "base_uri": "https://localhost:8080/"
        },
        "id": "nho2b--UpFOf",
        "outputId": "85392489-49c6-48e0-b838-a484d566a5d1"
      },
      "source": [
        "a[0,1].assign(1)"
      ],
      "execution_count": null,
      "outputs": [
        {
          "output_type": "execute_result",
          "data": {
            "text/plain": [
              "<tf.Variable 'UnreadVariable' shape=(4, 5) dtype=float32, numpy=\n",
              "array([[3.4, 1. , 3.4, 3.4, 3.4],\n",
              "       [3.4, 3.4, 3.4, 3.4, 3.4],\n",
              "       [3.4, 3.4, 3.4, 3.4, 3.4],\n",
              "       [3.4, 3.4, 3.4, 3.4, 3.4]], dtype=float32)>"
            ]
          },
          "metadata": {
            "tags": []
          },
          "execution_count": 32
        }
      ]
    },
    {
      "cell_type": "markdown",
      "metadata": {
        "id": "Q_WGbMiaqF3t"
      },
      "source": [
        "## Three important Tensor functions"
      ]
    },
    {
      "cell_type": "code",
      "metadata": {
        "colab": {
          "base_uri": "https://localhost:8080/"
        },
        "id": "xzy195pbqK1F",
        "outputId": "96596b69-696a-4618-9a38-5d2a6ded5bec"
      },
      "source": [
        "a = a[:3,:3]\n",
        "b=a[:,0]\n",
        "\n",
        "a,b"
      ],
      "execution_count": null,
      "outputs": [
        {
          "output_type": "execute_result",
          "data": {
            "text/plain": [
              "(<tf.Tensor: shape=(3, 3), dtype=float32, numpy=\n",
              " array([[3.4, 1. , 3.4],\n",
              "        [3.4, 3.4, 3.4],\n",
              "        [3.4, 3.4, 3.4]], dtype=float32)>,\n",
              " <tf.Tensor: shape=(3,), dtype=float32, numpy=array([3.4, 3.4, 3.4], dtype=float32)>)"
            ]
          },
          "metadata": {
            "tags": []
          },
          "execution_count": 33
        }
      ]
    },
    {
      "cell_type": "code",
      "metadata": {
        "colab": {
          "base_uri": "https://localhost:8080/",
          "height": 243
        },
        "id": "tWX8tMy6qVHv",
        "outputId": "12d0a6e9-8bc4-460b-884f-1bb573e9a8b9"
      },
      "source": [
        "c = tf.concat([b,a],0)"
      ],
      "execution_count": null,
      "outputs": [
        {
          "output_type": "error",
          "ename": "InvalidArgumentError",
          "evalue": "ignored",
          "traceback": [
            "\u001b[0;31m---------------------------------------------------------------------------\u001b[0m",
            "\u001b[0;31mInvalidArgumentError\u001b[0m                      Traceback (most recent call last)",
            "\u001b[0;32m<ipython-input-34-9b662e77078f>\u001b[0m in \u001b[0;36m<module>\u001b[0;34m()\u001b[0m\n\u001b[0;32m----> 1\u001b[0;31m \u001b[0mc\u001b[0m \u001b[0;34m=\u001b[0m \u001b[0mtf\u001b[0m\u001b[0;34m.\u001b[0m\u001b[0mconcat\u001b[0m\u001b[0;34m(\u001b[0m\u001b[0;34m[\u001b[0m\u001b[0mb\u001b[0m\u001b[0;34m,\u001b[0m\u001b[0ma\u001b[0m\u001b[0;34m]\u001b[0m\u001b[0;34m,\u001b[0m\u001b[0;36m0\u001b[0m\u001b[0;34m)\u001b[0m\u001b[0;34m\u001b[0m\u001b[0;34m\u001b[0m\u001b[0m\n\u001b[0m",
            "\u001b[0;32m/usr/local/lib/python3.7/dist-packages/tensorflow/python/util/dispatch.py\u001b[0m in \u001b[0;36mwrapper\u001b[0;34m(*args, **kwargs)\u001b[0m\n\u001b[1;32m    204\u001b[0m     \u001b[0;34m\"\"\"Call target, and fall back on dispatchers if there is a TypeError.\"\"\"\u001b[0m\u001b[0;34m\u001b[0m\u001b[0;34m\u001b[0m\u001b[0m\n\u001b[1;32m    205\u001b[0m     \u001b[0;32mtry\u001b[0m\u001b[0;34m:\u001b[0m\u001b[0;34m\u001b[0m\u001b[0;34m\u001b[0m\u001b[0m\n\u001b[0;32m--> 206\u001b[0;31m       \u001b[0;32mreturn\u001b[0m \u001b[0mtarget\u001b[0m\u001b[0;34m(\u001b[0m\u001b[0;34m*\u001b[0m\u001b[0margs\u001b[0m\u001b[0;34m,\u001b[0m \u001b[0;34m**\u001b[0m\u001b[0mkwargs\u001b[0m\u001b[0;34m)\u001b[0m\u001b[0;34m\u001b[0m\u001b[0;34m\u001b[0m\u001b[0m\n\u001b[0m\u001b[1;32m    207\u001b[0m     \u001b[0;32mexcept\u001b[0m \u001b[0;34m(\u001b[0m\u001b[0mTypeError\u001b[0m\u001b[0;34m,\u001b[0m \u001b[0mValueError\u001b[0m\u001b[0;34m)\u001b[0m\u001b[0;34m:\u001b[0m\u001b[0;34m\u001b[0m\u001b[0;34m\u001b[0m\u001b[0m\n\u001b[1;32m    208\u001b[0m       \u001b[0;31m# Note: convert_to_eager_tensor currently raises a ValueError, not a\u001b[0m\u001b[0;34m\u001b[0m\u001b[0;34m\u001b[0m\u001b[0;34m\u001b[0m\u001b[0m\n",
            "\u001b[0;32m/usr/local/lib/python3.7/dist-packages/tensorflow/python/ops/array_ops.py\u001b[0m in \u001b[0;36mconcat\u001b[0;34m(values, axis, name)\u001b[0m\n\u001b[1;32m   1766\u001b[0m           dtype=dtypes.int32).get_shape().assert_has_rank(0)\n\u001b[1;32m   1767\u001b[0m       \u001b[0;32mreturn\u001b[0m \u001b[0midentity\u001b[0m\u001b[0;34m(\u001b[0m\u001b[0mvalues\u001b[0m\u001b[0;34m[\u001b[0m\u001b[0;36m0\u001b[0m\u001b[0;34m]\u001b[0m\u001b[0;34m,\u001b[0m \u001b[0mname\u001b[0m\u001b[0;34m=\u001b[0m\u001b[0mname\u001b[0m\u001b[0;34m)\u001b[0m\u001b[0;34m\u001b[0m\u001b[0;34m\u001b[0m\u001b[0m\n\u001b[0;32m-> 1768\u001b[0;31m   \u001b[0;32mreturn\u001b[0m \u001b[0mgen_array_ops\u001b[0m\u001b[0;34m.\u001b[0m\u001b[0mconcat_v2\u001b[0m\u001b[0;34m(\u001b[0m\u001b[0mvalues\u001b[0m\u001b[0;34m=\u001b[0m\u001b[0mvalues\u001b[0m\u001b[0;34m,\u001b[0m \u001b[0maxis\u001b[0m\u001b[0;34m=\u001b[0m\u001b[0maxis\u001b[0m\u001b[0;34m,\u001b[0m \u001b[0mname\u001b[0m\u001b[0;34m=\u001b[0m\u001b[0mname\u001b[0m\u001b[0;34m)\u001b[0m\u001b[0;34m\u001b[0m\u001b[0;34m\u001b[0m\u001b[0m\n\u001b[0m\u001b[1;32m   1769\u001b[0m \u001b[0;34m\u001b[0m\u001b[0m\n\u001b[1;32m   1770\u001b[0m \u001b[0;34m\u001b[0m\u001b[0m\n",
            "\u001b[0;32m/usr/local/lib/python3.7/dist-packages/tensorflow/python/ops/gen_array_ops.py\u001b[0m in \u001b[0;36mconcat_v2\u001b[0;34m(values, axis, name)\u001b[0m\n\u001b[1;32m   1211\u001b[0m       \u001b[0;32mreturn\u001b[0m \u001b[0m_result\u001b[0m\u001b[0;34m\u001b[0m\u001b[0;34m\u001b[0m\u001b[0m\n\u001b[1;32m   1212\u001b[0m     \u001b[0;32mexcept\u001b[0m \u001b[0m_core\u001b[0m\u001b[0;34m.\u001b[0m\u001b[0m_NotOkStatusException\u001b[0m \u001b[0;32mas\u001b[0m \u001b[0me\u001b[0m\u001b[0;34m:\u001b[0m\u001b[0;34m\u001b[0m\u001b[0;34m\u001b[0m\u001b[0m\n\u001b[0;32m-> 1213\u001b[0;31m       \u001b[0m_ops\u001b[0m\u001b[0;34m.\u001b[0m\u001b[0mraise_from_not_ok_status\u001b[0m\u001b[0;34m(\u001b[0m\u001b[0me\u001b[0m\u001b[0;34m,\u001b[0m \u001b[0mname\u001b[0m\u001b[0;34m)\u001b[0m\u001b[0;34m\u001b[0m\u001b[0;34m\u001b[0m\u001b[0m\n\u001b[0m\u001b[1;32m   1214\u001b[0m     \u001b[0;32mexcept\u001b[0m \u001b[0m_core\u001b[0m\u001b[0;34m.\u001b[0m\u001b[0m_FallbackException\u001b[0m\u001b[0;34m:\u001b[0m\u001b[0;34m\u001b[0m\u001b[0;34m\u001b[0m\u001b[0m\n\u001b[1;32m   1215\u001b[0m       \u001b[0;32mpass\u001b[0m\u001b[0;34m\u001b[0m\u001b[0;34m\u001b[0m\u001b[0m\n",
            "\u001b[0;32m/usr/local/lib/python3.7/dist-packages/tensorflow/python/framework/ops.py\u001b[0m in \u001b[0;36mraise_from_not_ok_status\u001b[0;34m(e, name)\u001b[0m\n\u001b[1;32m   6895\u001b[0m   \u001b[0mmessage\u001b[0m \u001b[0;34m=\u001b[0m \u001b[0me\u001b[0m\u001b[0;34m.\u001b[0m\u001b[0mmessage\u001b[0m \u001b[0;34m+\u001b[0m \u001b[0;34m(\u001b[0m\u001b[0;34m\" name: \"\u001b[0m \u001b[0;34m+\u001b[0m \u001b[0mname\u001b[0m \u001b[0;32mif\u001b[0m \u001b[0mname\u001b[0m \u001b[0;32mis\u001b[0m \u001b[0;32mnot\u001b[0m \u001b[0;32mNone\u001b[0m \u001b[0;32melse\u001b[0m \u001b[0;34m\"\"\u001b[0m\u001b[0;34m)\u001b[0m\u001b[0;34m\u001b[0m\u001b[0;34m\u001b[0m\u001b[0m\n\u001b[1;32m   6896\u001b[0m   \u001b[0;31m# pylint: disable=protected-access\u001b[0m\u001b[0;34m\u001b[0m\u001b[0;34m\u001b[0m\u001b[0;34m\u001b[0m\u001b[0m\n\u001b[0;32m-> 6897\u001b[0;31m   \u001b[0msix\u001b[0m\u001b[0;34m.\u001b[0m\u001b[0mraise_from\u001b[0m\u001b[0;34m(\u001b[0m\u001b[0mcore\u001b[0m\u001b[0;34m.\u001b[0m\u001b[0m_status_to_exception\u001b[0m\u001b[0;34m(\u001b[0m\u001b[0me\u001b[0m\u001b[0;34m.\u001b[0m\u001b[0mcode\u001b[0m\u001b[0;34m,\u001b[0m \u001b[0mmessage\u001b[0m\u001b[0;34m)\u001b[0m\u001b[0;34m,\u001b[0m \u001b[0;32mNone\u001b[0m\u001b[0;34m)\u001b[0m\u001b[0;34m\u001b[0m\u001b[0;34m\u001b[0m\u001b[0m\n\u001b[0m\u001b[1;32m   6898\u001b[0m   \u001b[0;31m# pylint: enable=protected-access\u001b[0m\u001b[0;34m\u001b[0m\u001b[0;34m\u001b[0m\u001b[0;34m\u001b[0m\u001b[0m\n\u001b[1;32m   6899\u001b[0m \u001b[0;34m\u001b[0m\u001b[0m\n",
            "\u001b[0;32m/usr/local/lib/python3.7/dist-packages/six.py\u001b[0m in \u001b[0;36mraise_from\u001b[0;34m(value, from_value)\u001b[0m\n",
            "\u001b[0;31mInvalidArgumentError\u001b[0m: ConcatOp : Ranks of all input tensors should match: shape[0] = [3] vs. shape[1] = [3,3] [Op:ConcatV2] name: concat"
          ]
        }
      ]
    },
    {
      "cell_type": "code",
      "metadata": {
        "id": "6lh7-lUrqljF",
        "colab": {
          "base_uri": "https://localhost:8080/"
        },
        "outputId": "06ab42be-e27f-4758-d90e-31e7f8e599ae"
      },
      "source": [
        "tf.expand_dims(b,0)"
      ],
      "execution_count": null,
      "outputs": [
        {
          "output_type": "execute_result",
          "data": {
            "text/plain": [
              "<tf.Tensor: shape=(1, 3), dtype=float32, numpy=array([[3.4, 3.4, 3.4]], dtype=float32)>"
            ]
          },
          "metadata": {
            "tags": []
          },
          "execution_count": 35
        }
      ]
    },
    {
      "cell_type": "code",
      "metadata": {
        "id": "pOn4wDhOvbhh",
        "colab": {
          "base_uri": "https://localhost:8080/"
        },
        "outputId": "3cb793a7-9c9d-48c8-87b1-c446ee84d70c"
      },
      "source": [
        "v = tf.Variable([12,3,3,4])\n",
        "v"
      ],
      "execution_count": null,
      "outputs": [
        {
          "output_type": "execute_result",
          "data": {
            "text/plain": [
              "<tf.Variable 'Variable:0' shape=(4,) dtype=int32, numpy=array([12,  3,  3,  4], dtype=int32)>"
            ]
          },
          "metadata": {
            "tags": []
          },
          "execution_count": 36
        }
      ]
    },
    {
      "cell_type": "code",
      "metadata": {
        "id": "VEuvRE9BIpGW",
        "colab": {
          "base_uri": "https://localhost:8080/"
        },
        "outputId": "8c1a9abe-e14c-447a-e9e2-edf59884a3bb"
      },
      "source": [
        "v=tf.expand_dims(v,0)\n",
        "v"
      ],
      "execution_count": null,
      "outputs": [
        {
          "output_type": "execute_result",
          "data": {
            "text/plain": [
              "<tf.Tensor: shape=(1, 4), dtype=int32, numpy=array([[12,  3,  3,  4]], dtype=int32)>"
            ]
          },
          "metadata": {
            "tags": []
          },
          "execution_count": 37
        }
      ]
    },
    {
      "cell_type": "code",
      "metadata": {
        "id": "42OMatqmIyUp",
        "colab": {
          "base_uri": "https://localhost:8080/"
        },
        "outputId": "acd24b9e-541b-44f9-a229-7b25a800b841"
      },
      "source": [
        "tf.squeeze(v,0)"
      ],
      "execution_count": null,
      "outputs": [
        {
          "output_type": "execute_result",
          "data": {
            "text/plain": [
              "<tf.Tensor: shape=(4,), dtype=int32, numpy=array([12,  3,  3,  4], dtype=int32)>"
            ]
          },
          "metadata": {
            "tags": []
          },
          "execution_count": 38
        }
      ]
    },
    {
      "cell_type": "markdown",
      "metadata": {
        "id": "pyuEJdHQWyuu"
      },
      "source": [
        "## Accessing model parameters"
      ]
    },
    {
      "cell_type": "code",
      "metadata": {
        "id": "0ixDJhz6W14o"
      },
      "source": [
        "from tensorflow.keras.layers import Conv1D, AveragePooling1D\n",
        "inputs = Input(shape=(32,1))\n",
        "h =Conv1D(3,5,activation=\"relu\",name = \"convlution1\")(inputs)\n",
        "h1 =AveragePooling1D(3,name = \"average_polling\")(h)\n",
        "h2 =Flatten(name='flatten')(h1)\n",
        "output =Dense(1,activation = \"sigmoid\",name = \"dense\")(h2)\n",
        "\n",
        "model = Model(inputs=inputs,outputs = output)"
      ],
      "execution_count": null,
      "outputs": []
    },
    {
      "cell_type": "code",
      "metadata": {
        "colab": {
          "base_uri": "https://localhost:8080/"
        },
        "id": "ifrXm1GugQOe",
        "outputId": "39036cad-677a-400e-c28f-08c4b61f069b"
      },
      "source": [
        "print(model.layers[3].output)"
      ],
      "execution_count": null,
      "outputs": [
        {
          "output_type": "stream",
          "text": [
            "KerasTensor(type_spec=TensorSpec(shape=(None, 27), dtype=tf.float32, name=None), name='flatten/Reshape:0', description=\"created by layer 'flatten'\")\n"
          ],
          "name": "stdout"
        }
      ]
    },
    {
      "cell_type": "code",
      "metadata": {
        "id": "pc63UWY8XdK3",
        "colab": {
          "base_uri": "https://localhost:8080/"
        },
        "outputId": "c76b729b-a2e5-4199-9c68-63baf78128e8"
      },
      "source": [
        "model.summary()"
      ],
      "execution_count": null,
      "outputs": [
        {
          "output_type": "stream",
          "text": [
            "Model: \"model_2\"\n",
            "_________________________________________________________________\n",
            "Layer (type)                 Output Shape              Param #   \n",
            "=================================================================\n",
            "input_2 (InputLayer)         [(None, 32, 1)]           0         \n",
            "_________________________________________________________________\n",
            "convlution1 (Conv1D)         (None, 28, 3)             18        \n",
            "_________________________________________________________________\n",
            "average_polling (AveragePool (None, 9, 3)              0         \n",
            "_________________________________________________________________\n",
            "flatten (Flatten)            (None, 27)                0         \n",
            "_________________________________________________________________\n",
            "dense (Dense)                (None, 1)                 28        \n",
            "=================================================================\n",
            "Total params: 46\n",
            "Trainable params: 46\n",
            "Non-trainable params: 0\n",
            "_________________________________________________________________\n"
          ],
          "name": "stdout"
        }
      ]
    },
    {
      "cell_type": "code",
      "metadata": {
        "colab": {
          "base_uri": "https://localhost:8080/"
        },
        "id": "XRbhlIZYbk-G",
        "outputId": "d6af7422-1740-47a2-952a-7229579e4bec"
      },
      "source": [
        "##Accessing individual layers\n",
        "\n",
        "model.input,model.output"
      ],
      "execution_count": null,
      "outputs": [
        {
          "output_type": "execute_result",
          "data": {
            "text/plain": [
              "(<KerasTensor: shape=(None, 32, 1) dtype=float32 (created by layer 'input_2')>,\n",
              " <KerasTensor: shape=(None, 1) dtype=float32 (created by layer 'dense')>)"
            ]
          },
          "metadata": {
            "tags": []
          },
          "execution_count": 41
        }
      ]
    },
    {
      "cell_type": "code",
      "metadata": {
        "id": "L-Z69AuvcWj3"
      },
      "source": [
        ""
      ],
      "execution_count": null,
      "outputs": []
    }
  ]
}